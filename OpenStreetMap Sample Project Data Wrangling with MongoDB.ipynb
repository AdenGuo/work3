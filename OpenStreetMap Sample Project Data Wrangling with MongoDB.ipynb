{
 "cells": [
  {
   "cell_type": "markdown",
   "metadata": {},
   "source": [
    "# 1. Problems Encountered in the Map"
   ]
  },
  {
   "cell_type": "markdown",
   "metadata": {},
   "source": [
    "I downloaded the map of Beijing in China in xml format. After a little digging, I run my audit.py against the xml file and print the result in an organized way."
   ]
  },
  {
   "cell_type": "code",
   "execution_count": 4,
   "metadata": {
    "collapsed": false
   },
   "outputs": [
    {
     "name": "stdout",
     "output_type": "stream",
     "text": [
      "\n",
      "\n",
      "***********************************************************\n",
      "Problem 1: inconsistency in keys\n",
      "Unicode keys in the \"tag\" element are:\n",
      "[u'\\u758f\\u6563\\u4eba\\u6570', u'\\u9ec4\\u5357\\u82d1\\u5c0f\\u533a', u'\\u8f66\\u5e93']\n",
      "-----------------------------------------------------------\n",
      "Strings containing hyphen are:\n",
      "['name:bat-smg', 'name:roa-rup', 'x-shop', 'x-highway', 'x-name', 'name:cbk-zam', 'name:zh-simplified', 'name:roa-tara', 'name:be-x-old', 'name:zh-yue', 'name:zh-traditional', 'name:zh-min-nan', 'name:zh-classical']\n",
      "-----------------------------------------------------------\n",
      "Strings containing uppercase letters or abbreviated words are:\n",
      "['No.', 'currency:CNY', 'gns:UFI', 'gns:UNI', 'gns:DSG', 'gns:ADM1', 'FIXME']\n",
      "***********************************************************\n",
      "\n",
      "\n",
      "\n",
      "\n",
      "***********************************************************\n",
      "Problem 2: colon(s) in keys\n",
      "Strings containing single colon:\n",
      "['ref:en', 'name:uz', 'name:ur', 'name:ug', 'payment:debit_cards', 'name:ilo', 'name:ia', 'name:lez', 'name:id', 'name:io', 'name:is', 'name:si', 'name:nrm', 'name:br', 'name:bn', 'name:bo', 'name:bjn', 'name:be', 'name:bg', 'name:ba', 'name:bcl', 'name:crh', 'alt_name:zh_pinyin', 'name:ps', 'diet:vegetarian', 'name:cdo', 'name:sco', 'name:scn', 'alt_name:zh_pinyin2', 'alt_name:is', 'name:pnb', 'name:ms', 'name:mr', 'name:my', 'name:mg', 'name:ml', 'name:mn', 'name:mi', 'name:mk', 'name:hif', 'name:fo', 'name:fa', 'addr:place', 'fuel:cng', 'name:tr', 'name:tt', 'name:tk', 'name:th', 'name:pdc', 'name:tl', 'name:ta', 'name:tg', 'name:te', 'name:pms', 'name:ay', 'name:az', 'ref:vi', 'name:gan', 'name:ar', 'name:am', 'name:an', 'name:af', 'alt_name:en2', 'name:za', 'name:so', 'name:sl', 'name:war', 'name:sc', 'name:sa', 'name:arz', 'name:sw', 'name:sv', 'name:su', 'name:sr', 'name:sq', 'name:xmf', 'email:reservation', 'name:tpi', 'name:hi', 'name:he', 'name:bpy', 'name:hy', 'name:ht', 'name:hr', 'name:srn', 'name:szl', 'name:lmo', 'addr:district', 'name:haw', 'name:hak', 'disused:amenity', 'name:xal', 'alt_name:fr', 'name:ang', 'is_in:iso_3166_2', 'name:ka', 'name:ko', 'name:kn', 'name:km', 'name:kl', 'name:kk', 'name:kw', 'name:kv', 'name:zh_py', 'name:frp', 'name:lv', 'name:lt', 'name:la', 'name:lo', 'name:el', 'name:eo', 'name:lij', 'name:eu', 'name:et', 'name:ro', 'name:ckb', 'name:ast', 'old_name:ku', 'fuel:diesel', 'name:sah', 'name:oc', 'name:os', 'toilets:disposal', 'name:ceb', 'name:yi', 'name:yo', 'gns:dsg', 'name:ext', 'fuel:octane_92', 'flag:type', 'name:wuu', 'name:mwl', 'name:cy', 'name:cv', 'name:cs', 'name:ca', 'name:simple', 'name:kab', 'name:da', 'name:dv', 'name:nah', 'name:pa', 'name:jv', 'alt_name:sv', 'name:jbo', 'name:mzn', 'name:mhr', 'name:nov', 'name:pap', 'name:rue', 'name:pam', 'name:qu', 'addr:unit', 'name:gl', 'old_name:vi', 'fire_hydrant:type', 'name:nl', 'name:nn', 'name:no', 'name:na', 'name:ne', 'name:ga', 'name:gd', 'name:gn', 'ref:manager', 'name:gv', 'name:gu', 'gps:vdop', 'name:uk', 'name:pt', 'surveillance:type', 'gps:hdop', 'name:fi', 'payment:feathercoin', 'addr:full', 'name:ku', 'contact:website', 'name:it', 'name:sk', 'name:botanical', 'payment:credit_cards', 'name:es', 'contact:email', 'alt_name:en', 'contact:phone', 'seamark:type', 'is_in:continent', 'disused:public_transport', 'payment:bitcoin', 'addr:country', 'is_in:country', 'is_in:country_code', 'building:levels', 'payment:notes', 'name:pl', 'disused:highway', 'payment:coins', 'internet_access:fee', 'name:hu', 'disused:railway', 'source:name', 'name:fr', 'name:ja', 'generator:method', 'historic:civilization', 'name:vi', 'name:ru', 'tower:type', 'name:de', 'addr:housename', 'generator:source', 'addr:postcode', 'addr:city', 'payment:electronic_purses', 'payment:telephone_cards', 'addr:housenumber', 'addr:street', 'name:zh_pinyin', 'name:zh', 'name:en']\n",
      "-----------------------------------------------------------\n",
      "Strings containing duoble colons:\n",
      "['service:bicycle:retail', 'service:bicycle:repair', 'service:bicycle:pump', 'addr:street:en', 'seamark:mooring:category', 'generator:output:electricity']\n",
      "***********************************************************\n",
      "\n",
      "\n",
      "\n",
      "\n",
      "***********************************************************\n",
      "Problem 3: pinyin as names\n",
      "First 100 tag element containing names:\n",
      "[('name', u'\\u5317\\u4eac\\u5e02'), ('name', u'\\u6545\\u5bab'), ('name', u'\\u6728\\u6a28\\u5730\\u5317'), ('name', u'\\u96cd\\u548c\\u5bab\\u6865\\u4e1c'), ('name', u'\\u7389\\u6843\\u56ed'), ('name', u'\\u524d\\u95e8'), ('name', u'\\u94f8\\u949f\\u5382'), ('name', u'\\u5fb7\\u5185\\u7518\\u6c34\\u6865'), ('name', 'Guxiang 20'), ('name', u'\\u5c0f\\u5e84\\u8def\\u53e3\\u897f'), ('name', 'The Bookworm'), ('name', u'\\u5317\\u4eac'), ('name', u'\\u6c99\\u6ee9\\u8def\\u53e3\\u897f'), ('name', u'\\u949f\\u697c'), ('name', u'\\u6984\\u6746\\u5e02'), ('name', u'\\u5317\\u4eac\\u4e1c'), ('name', u'\\u4e30\\u53f0'), ('name', u'\\u5317\\u4eac\\u5927\\u5b66\\u897f\\u95e8'), ('name', u'\\u6d77\\u6dc0\\u9ec4\\u5e84\\u5357'), ('name', u'\\u660c\\u5e73\\u533a')]\n",
      "***********************************************************\n",
      "\n",
      "\n"
     ]
    }
   ],
   "source": [
    "execfile( \"audit.py\")"
   ]
  },
  {
   "cell_type": "code",
   "execution_count": null,
   "metadata": {
    "collapsed": true
   },
   "outputs": [],
   "source": []
  }
 ],
 "metadata": {
  "kernelspec": {
   "display_name": "Python 2",
   "language": "python",
   "name": "python2"
  },
  "language_info": {
   "codemirror_mode": {
    "name": "ipython",
    "version": 2
   },
   "file_extension": ".py",
   "mimetype": "text/x-python",
   "name": "python",
   "nbconvert_exporter": "python",
   "pygments_lexer": "ipython2",
   "version": "2.7.10"
  }
 },
 "nbformat": 4,
 "nbformat_minor": 0
}
